{
 "cells": [
  {
   "cell_type": "code",
   "execution_count": 1,
   "id": "2b8b7c07",
   "metadata": {
    "ExecuteTime": {
     "end_time": "2022-01-31T12:55:58.251581Z",
     "start_time": "2022-01-31T12:55:56.962123Z"
    }
   },
   "outputs": [],
   "source": [
    "from model import LeafcutterAntsFungiMutualismModel, track_ants, track_leaves, track_ratio_foragers\n",
    "from model import track_ants_leaves, track_dormant_ants\n",
    "from batchrunner import BatchRunnerMP\n",
    "import pandas as pd\n",
    "import numpy as np\n",
    "import matplotlib.pyplot as plt\n",
    "import seaborn as sns"
   ]
  },
  {
   "cell_type": "code",
   "execution_count": null,
   "id": "adb73891",
   "metadata": {},
   "outputs": [],
   "source": [
    "model = LeafcutterAntsFungiMutualismModel()\n",
    "\n",
    "max_steps = 10000\n",
    "repetitions = 10\n",
    "\n",
    "model_reporters = {\"Ants_Biomass\": track_ants,\n",
    "                    \"Fungus_Biomass\": lambda m: m.fungus.biomass,\n",
    "                    \"Fraction forager ants\": track_ratio_foragers,\n",
    "}\n",
    "\n",
    "# fixed_parameters = {'collect_data': True,\n",
    "#                      'width': 50,\n",
    "#                      'height': 50,\n",
    "#                      'num_ants': 50,\n",
    "#                      'num_plants': 150, \n",
    "#                      'pheromone_lifespan': 30,\n",
    "#                      'num_plant_leaves': 100,\n",
    "#                      'initial_foragers_ratio': 0.5, \n",
    "#                      'leaf_regrowth_rate': 1,\n",
    "#                      'ant_death_probability': 0.001,\n",
    "#                      'initial_fungus_energy': 50,\n",
    "#                      'fungus_decay_rate': 0.005, \n",
    "#                      'energy_biomass_cvn': 2.0, \n",
    "#                      'fungus_larvae_cvn': 1.4,\n",
    "#                      'energy_per_offspring': 1.0,\n",
    "#                      'fungus_biomass_death_threshold': 5,\n",
    "#                      'max_fitness_queue_size': 10,\n",
    "#                      'caretaker_carrying_amount': 1,\n",
    "#                      'caretaker_roundtrip_mean': 5.0, \n",
    "#                      'caretaker_roundtrip_std': 5.0,\n",
    "#                      #'dormant_roundtrip_mean': 60.0,\n",
    "# }\n",
    "\n",
    "batch = BatchRunnerMP(LeafcutterAntsFungiMutualismModel, nr_processes=2,\n",
    "                        max_steps=max_steps,\n",
    "                        iterations=repetitions,\n",
    "                        model_reporters=model_reporters,\n",
    "                        display_progress=True,\n",
    "                        #fixed_parameters=fixed_parameters,\n",
    "                         variable_parameters= {'dormant_roundtrip_mean':[60.0]})\n",
    "\n",
    "batch.run_all()\n",
    "\n",
    "data = batch.get_collector_model()"
   ]
  }
 ],
 "metadata": {
  "kernelspec": {
   "display_name": "Python 3 (ipykernel)",
   "language": "python",
   "name": "python3"
  },
  "language_info": {
   "codemirror_mode": {
    "name": "ipython",
    "version": 3
   },
   "file_extension": ".py",
   "mimetype": "text/x-python",
   "name": "python",
   "nbconvert_exporter": "python",
   "pygments_lexer": "ipython3",
   "version": "3.8.3"
  },
  "latex_envs": {
   "LaTeX_envs_menu_present": true,
   "autoclose": false,
   "autocomplete": true,
   "bibliofile": "biblio.bib",
   "cite_by": "apalike",
   "current_citInitial": 1,
   "eqLabelWithNumbers": true,
   "eqNumInitial": 1,
   "hotkeys": {
    "equation": "Ctrl-E",
    "itemize": "Ctrl-I"
   },
   "labels_anchors": false,
   "latex_user_defs": false,
   "report_style_numbering": false,
   "user_envs_cfg": false
  },
  "varInspector": {
   "cols": {
    "lenName": 16,
    "lenType": 16,
    "lenVar": 40
   },
   "kernels_config": {
    "python": {
     "delete_cmd_postfix": "",
     "delete_cmd_prefix": "del ",
     "library": "var_list.py",
     "varRefreshCmd": "print(var_dic_list())"
    },
    "r": {
     "delete_cmd_postfix": ") ",
     "delete_cmd_prefix": "rm(",
     "library": "var_list.r",
     "varRefreshCmd": "cat(var_dic_list()) "
    }
   },
   "types_to_exclude": [
    "module",
    "function",
    "builtin_function_or_method",
    "instance",
    "_Feature"
   ],
   "window_display": false
  }
 },
 "nbformat": 4,
 "nbformat_minor": 5
}
