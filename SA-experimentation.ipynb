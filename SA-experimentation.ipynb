{
 "cells": [
  {
   "cell_type": "markdown",
   "id": "6eb084f1",
   "metadata": {},
   "source": [
    "## Sensitivity Analysis\n",
    "\n",
    "Some experimentation with local and global sensitivity analysis based on the notebook provided by the course and some articles\n",
    "\n",
    "#### References\n",
    "- Broeke, G. ten, Voorn, G. van, Ligtenberg, A. (2016). Which Sensitivity Analysis Method Should I Use for My Agent-Based Model?\n",
    "\n",
    "\n",
    "\n",
    "### OFAT\n",
    "One-Factor-At-a-Time: Method of local sensitivity analysis, where one input parameter is varied and the others are kept fixed. According to ten Broeke (2016) a pre-test needs to be done to ensure a the model converges to a steady state behaviour. This might prove problematic for our model, since we examine early stage colonies, and in the results from the ODE model, the ant and fungus biomass are still increasing vastly. "
   ]
  },
  {
   "cell_type": "code",
   "execution_count": 7,
   "id": "30668c89",
   "metadata": {
    "ExecuteTime": {
     "end_time": "2022-01-25T12:54:49.383281Z",
     "start_time": "2022-01-25T12:54:49.374558Z"
    }
   },
   "outputs": [],
   "source": [
    "from leafcutter_ants_fungi_mutualism.model import LeafcutterAntsFungiMutualismModel, track_ants, track_leaves, track_ratio_foragers\n",
    "from mesa.batchrunner import BatchRunner, BatchRunnerMP\n",
    "import pandas as pd\n",
    "import numpy as np\n",
    "import matplotlib.pyplot as plt\n",
    "import seaborn as sns"
   ]
  },
  {
   "cell_type": "code",
   "execution_count": 8,
   "id": "5c795fc9",
   "metadata": {
    "ExecuteTime": {
     "end_time": "2022-01-25T12:55:52.026265Z",
     "start_time": "2022-01-25T12:54:49.811482Z"
    }
   },
   "outputs": [
    {
     "name": "stdout",
     "output_type": "stream",
     "text": [
      "BatchRunner MP will use 8 processors.\n"
     ]
    },
    {
     "name": "stderr",
     "output_type": "stream",
     "text": [
      "6it [01:02, 10.35s/it]"
     ]
    },
    {
     "name": "stdout",
     "output_type": "stream",
     "text": [
      "   num_ants  Run  Ants with Leaves  Ants_Biomass  Fraction forager ants  \\\n",
      "2        50    0               165           787               0.240152   \n",
      "3        20    0               193          1053               0.244065   \n",
      "0        50    1               171           627               0.197767   \n",
      "5        20    1               196          1101               0.261580   \n",
      "1        20    2               172           888               0.243243   \n",
      "4        50    2               210          1098               0.282332   \n",
      "\n",
      "   Fungus_Biomass  \n",
      "2        6.409539  \n",
      "3        6.119391  \n",
      "0        6.768214  \n",
      "5        6.743843  \n",
      "1        6.153851  \n",
      "4        6.450364  \n"
     ]
    },
    {
     "name": "stderr",
     "output_type": "stream",
     "text": [
      "\n"
     ]
    }
   ],
   "source": [
    "\"\"\"\n",
    "Pre-test to determine whether the model converges to a steady state behaviour\n",
    "\"\"\"\n",
    "model = LeafcutterAntsFungiMutualismModel(num_ants=50, num_plants=30, width=20, height=50,\n",
    "                 pheromone_lifespan=30, num_plant_leaves=100,\n",
    "                 leaf_regrowth_rate=1/2, ant_death_probability=0.01,\n",
    "                 initial_fungus_energy=50, fungus_decay_rate=1/50)\n",
    "\n",
    "repetitions = 3\n",
    "time_steps = 1000\n",
    "\n",
    "output_variables = {\"Ants_Biomass\": track_ants,\n",
    "                    \"Fungus_Biomass\": lambda m: m.fungus.biomass,\n",
    "                    \"Ants with Leaves\": track_leaves,\n",
    "                    \"Fraction forager ants\": track_ratio_foragers,\n",
    "}\n",
    "\n",
    "variable_parameters = {'num_ants': [20,50]}\n",
    "\n",
    "# batch = BatchRunner(LeafcutterAntsFungiMutualismModel,\n",
    "#                     max_steps = time_steps, \n",
    "#                     variable_parameters = variable_parameters,\n",
    "#                     iterations = repetitions,\n",
    "#                     model_reporters = output_variables,\n",
    "#                     display_progress = True)\n",
    "\n",
    "batch = BatchRunnerMP(LeafcutterAntsFungiMutualismModel, #nr_processes = 8,\n",
    "                    max_steps = time_steps, \n",
    "                    variable_parameters = variable_parameters,\n",
    "                    iterations = repetitions,\n",
    "                    model_reporters = output_variables,\n",
    "                    display_progress = True)\n",
    "\n",
    "batch.run_all()\n",
    "\n",
    "data = batch.get_model_vars_dataframe()\n",
    "\n",
    "print(data)"
   ]
  },
  {
   "cell_type": "code",
   "execution_count": 9,
   "id": "bb989227",
   "metadata": {
    "ExecuteTime": {
     "end_time": "2022-01-25T12:56:17.127108Z",
     "start_time": "2022-01-25T12:56:16.616942Z"
    }
   },
   "outputs": [
    {
     "data": {
      "text/plain": [
       "<seaborn.axisgrid.FacetGrid at 0x7fed115a8610>"
      ]
     },
     "execution_count": 9,
     "metadata": {},
     "output_type": "execute_result"
    },
    {
     "data": {
      "image/png": "[encoded data removed]",
      "text/plain": [
       "<Figure size 417x360 with 1 Axes>"
      ]
     },
     "metadata": {
      "needs_background": "light"
     },
     "output_type": "display_data"
    }
   ],
   "source": [
    "#data_collection = batch.get_collector_model()\n",
    "sns.relplot(data=data, x='Ants_Biomass', y='Fungus_Biomass', hue='num_ants')"
   ]
  },
  {
   "cell_type": "code",
   "execution_count": 12,
   "id": "63bb10e5",
   "metadata": {
    "ExecuteTime": {
     "end_time": "2022-01-25T12:59:44.758103Z",
     "start_time": "2022-01-25T12:59:44.747385Z"
    }
   },
   "outputs": [
    {
     "name": "stdout",
     "output_type": "stream",
     "text": [
      "odict_keys([(50, 1), (20, 2), (50, 0), (20, 0), (50, 2), (20, 1)])\n",
      "      Fungus Biomass  Ant Biomass  Ants with Leaves  Fraction forager ants\n",
      "0          50.000000           20                 0               0.500000\n",
      "1          50.000000           20                 0               0.500000\n",
      "2         139.760000           21                 0               0.476190\n",
      "3         128.071200           32                 0               0.562500\n",
      "4         113.480844           46                 0               0.586957\n",
      "...              ...          ...               ...                    ...\n",
      "996         6.914998         1121               187               0.262266\n",
      "997         6.880423         1119               191               0.260054\n",
      "998         6.846021         1110               186               0.261261\n",
      "999         6.811791         1112               188               0.259892\n",
      "1000        6.777732         1114               194               0.263016\n",
      "\n",
      "[1001 rows x 4 columns]\n"
     ]
    }
   ],
   "source": [
    "data_collection = batch.get_collector_model()\n",
    "print(data_collection.keys())\n",
    "\n",
    "# every key - value pair (nr_ants, repetition_number) contains a single model run\n",
    "print(data_collection[(20,1)])\n",
    "# sns.relplot(data=data_collection[(20,1)])\n",
    "# sns.relplot(data=data_collection[(50,1)])"
   ]
  },
  {
   "cell_type": "code",
   "execution_count": 15,
   "id": "4e628565",
   "metadata": {
    "ExecuteTime": {
     "end_time": "2022-01-25T13:01:08.886766Z",
     "start_time": "2022-01-25T13:01:08.873080Z"
    }
   },
   "outputs": [],
   "source": [
    "\"\"\" \n",
    "Code based on the sensitivity analysis notebook\n",
    "\"\"\"\n",
    "def collect_data_OFAT():\n",
    "    # define variables and bounds\n",
    "    problem = {\n",
    "        'num_vars': 3,\n",
    "        'names': ['pheromone_lifespan', 'ant_death_probability', 'fungus_decay_rate'],\n",
    "        'bounds': [[10, 50], [0.01, 0.1], [0.001, 0.01]]\n",
    "    }\n",
    "\n",
    "    # define fixed parameters\n",
    "    # fixed_params = {}\n",
    "\n",
    "    # set the repetitions, amount of steps, amount of distinc_samples\n",
    "    replicates = 5\n",
    "    max_steps = 100\n",
    "    distinct_samples = 5\n",
    "\n",
    "    # set the outputs\n",
    "    model_reporters = {\"Ants_Biomass\": track_ants,\n",
    "                    \"Fungus_Biomass\": lambda m: m.fungus.biomass,\n",
    "                    \"Fraction forager ants\": track_ratio_foragers,\n",
    "    }\n",
    "\n",
    "    data = {}\n",
    "\n",
    "    for i, var in enumerate(problem['names']):\n",
    "        # get the bounds for this variable and get <distinct_samples> samples within this space (uniform)\n",
    "        samples = np.linspace(*problem['bounds'][i], num=distinct_samples)\n",
    "\n",
    "        # pheromon_lifespan needs to be an integer\n",
    "        if var == 'pheromone_lifespan':\n",
    "            samples = np.linspace(*problem['bounds'][i], num=distinct_samples, dtype=int)\n",
    "\n",
    "        batch = BatchRunnerMP(LeafcutterAntsFungiMutualismModel, \n",
    "                            max_steps=max_steps,\n",
    "                            iterations=replicates,\n",
    "                            variable_parameters={var: samples},\n",
    "                            model_reporters=model_reporters,\n",
    "                            display_progress=True)\n",
    "                            # fixed_parameters = ...\n",
    "\n",
    "        batch.run_all()\n",
    "\n",
    "        data[var] = batch.get_model_vars_dataframe()\n",
    "        \n",
    "    return data\n",
    "\n",
    "\n",
    "# the following functions are copied directly from the notebook and still need to be adapted\n",
    "def plot_param_var_conf(ax, df, var, param, i):\n",
    "    \"\"\"\n",
    "    Helper function for plot_all_vars. Plots the individual parameter vs\n",
    "    variables passed.\n",
    "\n",
    "    Args:\n",
    "        ax: the axis to plot to\n",
    "        df: dataframe that holds the data to be plotted\n",
    "        var: variables to be taken from the dataframe\n",
    "        param: which output variable to plot\n",
    "    \"\"\"\n",
    "    x = df.groupby(var).mean().reset_index()[var]\n",
    "    y = df.groupby(var).mean()[param]\n",
    "\n",
    "    replicates = df.groupby(var)[param].count()\n",
    "    err = (1.96 * df.groupby(var)[param].std()) / np.sqrt(replicates)\n",
    "\n",
    "    ax.plot(x, y, c='k')\n",
    "    ax.fill_between(x, y - err, y + err)\n",
    "\n",
    "    ax.set_xlabel(var)\n",
    "    ax.set_ylabel(param)\n",
    "\n",
    "def plot_all_vars(df, param):\n",
    "    \"\"\"\n",
    "    Plots the parameters passed vs each of the output variables.\n",
    "\n",
    "    Args:\n",
    "        df: dataframe that holds all data\n",
    "        param: the parameter to be plotted\n",
    "    \"\"\"\n",
    "\n",
    "    f, axs = plt.subplots(3, figsize=(7, 10))\n",
    "    \n",
    "    for i, var in enumerate(problem['names']):\n",
    "        plot_param_var_conf(axs[i], data[var], var, param, i)\n",
    "\n",
    "\n",
    "\n",
    "# data = collect_data_OFAT()\n",
    "# for param in ('Ants', 'Fungus'):\n",
    "#     plot_all_vars(data, param)\n",
    "#     plt.show()"
   ]
  },
  {
   "cell_type": "code",
   "execution_count": 17,
   "id": "63a6d2a8",
   "metadata": {
    "ExecuteTime": {
     "end_time": "2022-01-25T13:02:53.542467Z",
     "start_time": "2022-01-25T13:02:38.984933Z"
    }
   },
   "outputs": [
    {
     "name": "stdout",
     "output_type": "stream",
     "text": [
      "BatchRunner MP will use 8 processors.\n"
     ]
    },
    {
     "name": "stderr",
     "output_type": "stream",
     "text": [
      "25it [00:10,  2.38it/s]"
     ]
    },
    {
     "name": "stdout",
     "output_type": "stream",
     "text": [
      "BatchRunner MP will use 8 processors.\n"
     ]
    },
    {
     "name": "stderr",
     "output_type": "stream",
     "text": [
      "\n",
      "19it [00:03,  4.92it/s]\n"
     ]
    },
    {
     "ename": "ZeroDivisionError",
     "evalue": "division by zero",
     "output_type": "error",
     "traceback": [
      "\u001b[0;31m---------------------------------------------------------------------------\u001b[0m",
      "\u001b[0;31mRemoteTraceback\u001b[0m                           Traceback (most recent call last)",
      "\u001b[0;31mRemoteTraceback\u001b[0m: \n\"\"\"\nTraceback (most recent call last):\n  File \"/home/floor/.local/lib/python3.8/site-packages/multiprocess/pool.py\", line 125, in worker\n    result = (True, func(*args, **kwds))\n  File \"/home/floor/.local/lib/python3.8/site-packages/mesa/batchrunner.py\", line 685, in _run_wrappermp\n    model.step()\n  File \"/WIN_D/Shared/Documents/School/Master/AgentBasedModelling/agent-based-modeling-project/leafcutter_ants_fungi_mutualism/model.py\", line 146, in step\n    self.datacollector.collect(self)\n  File \"/home/floor/.local/lib/python3.8/site-packages/mesa/datacollection.py\", line 183, in collect\n    self.model_vars[var].append(reporter(model))\n  File \"/WIN_D/Shared/Documents/School/Master/AgentBasedModelling/agent-based-modeling-project/leafcutter_ants_fungi_mutualism/model.py\", line 31, in track_ratio_foragers\n    return n_foragers/n_ants\nZeroDivisionError: division by zero\n\"\"\"",
      "\nThe above exception was the direct cause of the following exception:\n",
      "\u001b[0;31mZeroDivisionError\u001b[0m                         Traceback (most recent call last)",
      "\u001b[0;32m/tmp/ipykernel_7602/2757177270.py\u001b[0m in \u001b[0;36m<module>\u001b[0;34m\u001b[0m\n\u001b[0;32m----> 1\u001b[0;31m \u001b[0mdata\u001b[0m \u001b[0;34m=\u001b[0m \u001b[0mcollect_data_OFAT\u001b[0m\u001b[0;34m(\u001b[0m\u001b[0;34m)\u001b[0m\u001b[0;34m\u001b[0m\u001b[0;34m\u001b[0m\u001b[0m\n\u001b[0m\u001b[1;32m      2\u001b[0m \u001b[0;32mfor\u001b[0m \u001b[0mparam\u001b[0m \u001b[0;32min\u001b[0m \u001b[0;34m(\u001b[0m\u001b[0;34m\"Ants_Biomass\"\u001b[0m\u001b[0;34m,\u001b[0m \u001b[0;34m\"Fungus_Biomass\"\u001b[0m\u001b[0;34m,\u001b[0m \u001b[0;34m\"Fraction forager ants\"\u001b[0m\u001b[0;34m)\u001b[0m\u001b[0;34m:\u001b[0m\u001b[0;34m\u001b[0m\u001b[0;34m\u001b[0m\u001b[0m\n\u001b[1;32m      3\u001b[0m     \u001b[0mplot_all_vars\u001b[0m\u001b[0;34m(\u001b[0m\u001b[0mdata\u001b[0m\u001b[0;34m,\u001b[0m \u001b[0mparam\u001b[0m\u001b[0;34m)\u001b[0m\u001b[0;34m\u001b[0m\u001b[0;34m\u001b[0m\u001b[0m\n\u001b[1;32m      4\u001b[0m     \u001b[0mplt\u001b[0m\u001b[0;34m.\u001b[0m\u001b[0mshow\u001b[0m\u001b[0;34m(\u001b[0m\u001b[0;34m)\u001b[0m\u001b[0;34m\u001b[0m\u001b[0;34m\u001b[0m\u001b[0m\n",
      "\u001b[0;32m/tmp/ipykernel_7602/2494343291.py\u001b[0m in \u001b[0;36mcollect_data_OFAT\u001b[0;34m()\u001b[0m\n\u001b[1;32m     42\u001b[0m                             \u001b[0;31m# fixed_parameters = ...\u001b[0m\u001b[0;34m\u001b[0m\u001b[0;34m\u001b[0m\u001b[0;34m\u001b[0m\u001b[0m\n\u001b[1;32m     43\u001b[0m \u001b[0;34m\u001b[0m\u001b[0m\n\u001b[0;32m---> 44\u001b[0;31m         \u001b[0mbatch\u001b[0m\u001b[0;34m.\u001b[0m\u001b[0mrun_all\u001b[0m\u001b[0;34m(\u001b[0m\u001b[0;34m)\u001b[0m\u001b[0;34m\u001b[0m\u001b[0;34m\u001b[0m\u001b[0m\n\u001b[0m\u001b[1;32m     45\u001b[0m \u001b[0;34m\u001b[0m\u001b[0m\n\u001b[1;32m     46\u001b[0m         \u001b[0mdata\u001b[0m\u001b[0;34m[\u001b[0m\u001b[0mvar\u001b[0m\u001b[0;34m]\u001b[0m \u001b[0;34m=\u001b[0m \u001b[0mbatch\u001b[0m\u001b[0;34m.\u001b[0m\u001b[0mget_model_vars_dataframe\u001b[0m\u001b[0;34m(\u001b[0m\u001b[0;34m)\u001b[0m\u001b[0;34m\u001b[0m\u001b[0;34m\u001b[0m\u001b[0m\n",
      "\u001b[0;32m~/.local/lib/python3.8/site-packages/mesa/batchrunner.py\u001b[0m in \u001b[0;36mrun_all\u001b[0;34m(self)\u001b[0m\n\u001b[1;32m    738\u001b[0m         \u001b[0;32mif\u001b[0m \u001b[0mself\u001b[0m\u001b[0;34m.\u001b[0m\u001b[0mprocesses\u001b[0m \u001b[0;34m>\u001b[0m \u001b[0;36m1\u001b[0m\u001b[0;34m:\u001b[0m\u001b[0;34m\u001b[0m\u001b[0;34m\u001b[0m\u001b[0m\n\u001b[1;32m    739\u001b[0m             \u001b[0;32mwith\u001b[0m \u001b[0mtqdm\u001b[0m\u001b[0;34m(\u001b[0m\u001b[0mtotal_iterations\u001b[0m\u001b[0;34m,\u001b[0m \u001b[0mdisable\u001b[0m\u001b[0;34m=\u001b[0m\u001b[0;32mnot\u001b[0m \u001b[0mself\u001b[0m\u001b[0;34m.\u001b[0m\u001b[0mdisplay_progress\u001b[0m\u001b[0;34m)\u001b[0m \u001b[0;32mas\u001b[0m \u001b[0mpbar\u001b[0m\u001b[0;34m:\u001b[0m\u001b[0;34m\u001b[0m\u001b[0;34m\u001b[0m\u001b[0m\n\u001b[0;32m--> 740\u001b[0;31m                 for params, model in self.pool.imap_unordered(\n\u001b[0m\u001b[1;32m    741\u001b[0m                     \u001b[0mself\u001b[0m\u001b[0;34m.\u001b[0m\u001b[0m_run_wrappermp\u001b[0m\u001b[0;34m,\u001b[0m \u001b[0mrun_iter_args\u001b[0m\u001b[0;34m\u001b[0m\u001b[0;34m\u001b[0m\u001b[0m\n\u001b[1;32m    742\u001b[0m                 ):\n",
      "\u001b[0;32m~/.local/lib/python3.8/site-packages/multiprocess/pool.py\u001b[0m in \u001b[0;36mnext\u001b[0;34m(self, timeout)\u001b[0m\n\u001b[1;32m    866\u001b[0m         \u001b[0;32mif\u001b[0m \u001b[0msuccess\u001b[0m\u001b[0;34m:\u001b[0m\u001b[0;34m\u001b[0m\u001b[0;34m\u001b[0m\u001b[0m\n\u001b[1;32m    867\u001b[0m             \u001b[0;32mreturn\u001b[0m \u001b[0mvalue\u001b[0m\u001b[0;34m\u001b[0m\u001b[0;34m\u001b[0m\u001b[0m\n\u001b[0;32m--> 868\u001b[0;31m         \u001b[0;32mraise\u001b[0m \u001b[0mvalue\u001b[0m\u001b[0;34m\u001b[0m\u001b[0;34m\u001b[0m\u001b[0m\n\u001b[0m\u001b[1;32m    869\u001b[0m \u001b[0;34m\u001b[0m\u001b[0m\n\u001b[1;32m    870\u001b[0m     \u001b[0m__next__\u001b[0m \u001b[0;34m=\u001b[0m \u001b[0mnext\u001b[0m                    \u001b[0;31m# XXX\u001b[0m\u001b[0;34m\u001b[0m\u001b[0;34m\u001b[0m\u001b[0m\n",
      "\u001b[0;31mZeroDivisionError\u001b[0m: division by zero"
     ]
    }
   ],
   "source": [
    "data = collect_data_OFAT()\n",
    "for param in (\"Ants_Biomass\", \"Fungus_Biomass\", \"Fraction forager ants\"):\n",
    "    plot_all_vars(data, param)\n",
    "    plt.show()"
   ]
  },
  {
   "cell_type": "code",
   "execution_count": null,
   "id": "352d74b8",
   "metadata": {},
   "outputs": [],
   "source": []
  }
 ],
 "metadata": {
  "kernelspec": {
   "display_name": "Python 3 (ipykernel)",
   "language": "python",
   "name": "python3"
  },
  "language_info": {
   "codemirror_mode": {
    "name": "ipython",
    "version": 3
   },
   "file_extension": ".py",
   "mimetype": "text/x-python",
   "name": "python",
   "nbconvert_exporter": "python",
   "pygments_lexer": "ipython3",
   "version": "3.8.3"
  },
  "latex_envs": {
   "LaTeX_envs_menu_present": true,
   "autoclose": false,
   "autocomplete": true,
   "bibliofile": "biblio.bib",
   "cite_by": "apalike",
   "current_citInitial": 1,
   "eqLabelWithNumbers": true,
   "eqNumInitial": 1,
   "hotkeys": {
    "equation": "Ctrl-E",
    "itemize": "Ctrl-I"
   },
   "labels_anchors": false,
   "latex_user_defs": false,
   "report_style_numbering": false,
   "user_envs_cfg": false
  },
  "varInspector": {
   "cols": {
    "lenName": 16,
    "lenType": 16,
    "lenVar": 40
   },
   "kernels_config": {
    "python": {
     "delete_cmd_postfix": "",
     "delete_cmd_prefix": "del ",
     "library": "var_list.py",
     "varRefreshCmd": "print(var_dic_list())"
    },
    "r": {
     "delete_cmd_postfix": ") ",
     "delete_cmd_prefix": "rm(",
     "library": "var_list.r",
     "varRefreshCmd": "cat(var_dic_list()) "
    }
   },
   "types_to_exclude": [
    "module",
    "function",
    "builtin_function_or_method",
    "instance",
    "_Feature"
   ],
   "window_display": false
  }
 },
 "nbformat": 4,
 "nbformat_minor": 5
}
